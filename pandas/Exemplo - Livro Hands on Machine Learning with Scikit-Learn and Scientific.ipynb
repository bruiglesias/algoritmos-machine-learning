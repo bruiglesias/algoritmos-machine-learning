{
 "cells": [
  {
   "cell_type": "markdown",
   "id": "3da9f2c5",
   "metadata": {},
   "source": [
    "### Introdução ao pandas"
   ]
  },
  {
   "cell_type": "markdown",
   "id": "3d3a99d0",
   "metadata": {},
   "source": [
    "Criando um Pandas DataFrame"
   ]
  },
  {
   "cell_type": "code",
   "execution_count": 1,
   "id": "28054e76",
   "metadata": {},
   "outputs": [],
   "source": [
    "import pandas as pd\n",
    "\n",
    "polygons_dataframe = pd.DataFrame({\n",
    "    'nome': ['triangulo', 'quadrilatero', 'pentagono', 'hexagono'],\n",
    "    'lados': [3, 4, 5, 6]\n",
    "})"
   ]
  },
  {
   "cell_type": "markdown",
   "id": "02aa125c",
   "metadata": {},
   "source": [
    "Exibindo os primeiros registros do dataframe criado"
   ]
  },
  {
   "cell_type": "code",
   "execution_count": 2,
   "id": "525d0822",
   "metadata": {},
   "outputs": [
    {
     "data": {
      "text/html": [
       "<div>\n",
       "<style scoped>\n",
       "    .dataframe tbody tr th:only-of-type {\n",
       "        vertical-align: middle;\n",
       "    }\n",
       "\n",
       "    .dataframe tbody tr th {\n",
       "        vertical-align: top;\n",
       "    }\n",
       "\n",
       "    .dataframe thead th {\n",
       "        text-align: right;\n",
       "    }\n",
       "</style>\n",
       "<table border=\"1\" class=\"dataframe\">\n",
       "  <thead>\n",
       "    <tr style=\"text-align: right;\">\n",
       "      <th></th>\n",
       "      <th>nome</th>\n",
       "      <th>lados</th>\n",
       "    </tr>\n",
       "  </thead>\n",
       "  <tbody>\n",
       "    <tr>\n",
       "      <th>0</th>\n",
       "      <td>triangulo</td>\n",
       "      <td>3</td>\n",
       "    </tr>\n",
       "    <tr>\n",
       "      <th>1</th>\n",
       "      <td>quadrilatero</td>\n",
       "      <td>4</td>\n",
       "    </tr>\n",
       "    <tr>\n",
       "      <th>2</th>\n",
       "      <td>pentagono</td>\n",
       "      <td>5</td>\n",
       "    </tr>\n",
       "    <tr>\n",
       "      <th>3</th>\n",
       "      <td>hexagono</td>\n",
       "      <td>6</td>\n",
       "    </tr>\n",
       "  </tbody>\n",
       "</table>\n",
       "</div>"
      ],
      "text/plain": [
       "           nome  lados\n",
       "0     triangulo      3\n",
       "1  quadrilatero      4\n",
       "2     pentagono      5\n",
       "3      hexagono      6"
      ]
     },
     "execution_count": 2,
     "metadata": {},
     "output_type": "execute_result"
    }
   ],
   "source": [
    "polygons_dataframe.head()"
   ]
  },
  {
   "cell_type": "markdown",
   "id": "a5a2c66e",
   "metadata": {},
   "source": [
    "Outra forma de criar um Pandas DataFrame"
   ]
  },
  {
   "cell_type": "code",
   "execution_count": 3,
   "id": "aa3e7bfb",
   "metadata": {},
   "outputs": [
    {
     "data": {
      "text/html": [
       "<div>\n",
       "<style scoped>\n",
       "    .dataframe tbody tr th:only-of-type {\n",
       "        vertical-align: middle;\n",
       "    }\n",
       "\n",
       "    .dataframe tbody tr th {\n",
       "        vertical-align: top;\n",
       "    }\n",
       "\n",
       "    .dataframe thead th {\n",
       "        text-align: right;\n",
       "    }\n",
       "</style>\n",
       "<table border=\"1\" class=\"dataframe\">\n",
       "  <thead>\n",
       "    <tr style=\"text-align: right;\">\n",
       "      <th></th>\n",
       "      <th>nome</th>\n",
       "      <th>lados</th>\n",
       "    </tr>\n",
       "  </thead>\n",
       "  <tbody>\n",
       "    <tr>\n",
       "      <th>7</th>\n",
       "      <td>decagon</td>\n",
       "      <td>10</td>\n",
       "    </tr>\n",
       "    <tr>\n",
       "      <th>8</th>\n",
       "      <td>dodecagon</td>\n",
       "      <td>11</td>\n",
       "    </tr>\n",
       "    <tr>\n",
       "      <th>4</th>\n",
       "      <td>heptagono</td>\n",
       "      <td>7</td>\n",
       "    </tr>\n",
       "    <tr>\n",
       "      <th>3</th>\n",
       "      <td>hexagono</td>\n",
       "      <td>6</td>\n",
       "    </tr>\n",
       "    <tr>\n",
       "      <th>6</th>\n",
       "      <td>nonagon</td>\n",
       "      <td>9</td>\n",
       "    </tr>\n",
       "  </tbody>\n",
       "</table>\n",
       "</div>"
      ],
      "text/plain": [
       "        nome  lados\n",
       "7    decagon     10\n",
       "8  dodecagon     11\n",
       "4  heptagono      7\n",
       "3   hexagono      6\n",
       "6    nonagon      9"
      ]
     },
     "execution_count": 3,
     "metadata": {},
     "output_type": "execute_result"
    }
   ],
   "source": [
    "polygons = {\n",
    "    \"nome\": [\"triangulo\", \"quadrilatero\", \"pentagono\", \"hexagono\", \"heptagono\", \"octagono\", \n",
    "             \"nonagon\", \"decagon\", \"dodecagon\", \"tridecagon\", \"tetradecagono\"],\n",
    "    \"lados\": [i for i in range(3, 14, 1)]\n",
    "}\n",
    "\n",
    "polygons_dataframe = pd.DataFrame(polygons)\n",
    "\n",
    "# ordena pelo nome\n",
    "polygons_dataframe.sort_values('nome').head(5)"
   ]
  },
  {
   "cell_type": "markdown",
   "id": "1ea1f693",
   "metadata": {},
   "source": [
    "Tres formas de criar uma nova coluna aplicando uma funcao sobre uma coluna existente"
   ]
  },
  {
   "cell_type": "code",
   "execution_count": 4,
   "id": "59bac07e",
   "metadata": {},
   "outputs": [
    {
     "data": {
      "text/html": [
       "<div>\n",
       "<style scoped>\n",
       "    .dataframe tbody tr th:only-of-type {\n",
       "        vertical-align: middle;\n",
       "    }\n",
       "\n",
       "    .dataframe tbody tr th {\n",
       "        vertical-align: top;\n",
       "    }\n",
       "\n",
       "    .dataframe thead th {\n",
       "        text-align: right;\n",
       "    }\n",
       "</style>\n",
       "<table border=\"1\" class=\"dataframe\">\n",
       "  <thead>\n",
       "    <tr style=\"text-align: right;\">\n",
       "      <th></th>\n",
       "      <th>nome</th>\n",
       "      <th>lados</th>\n",
       "      <th>comprimento do nome</th>\n",
       "    </tr>\n",
       "  </thead>\n",
       "  <tbody>\n",
       "    <tr>\n",
       "      <th>0</th>\n",
       "      <td>triangulo</td>\n",
       "      <td>3</td>\n",
       "      <td>9</td>\n",
       "    </tr>\n",
       "    <tr>\n",
       "      <th>1</th>\n",
       "      <td>quadrilatero</td>\n",
       "      <td>4</td>\n",
       "      <td>12</td>\n",
       "    </tr>\n",
       "    <tr>\n",
       "      <th>2</th>\n",
       "      <td>pentagono</td>\n",
       "      <td>5</td>\n",
       "      <td>9</td>\n",
       "    </tr>\n",
       "    <tr>\n",
       "      <th>3</th>\n",
       "      <td>hexagono</td>\n",
       "      <td>6</td>\n",
       "      <td>8</td>\n",
       "    </tr>\n",
       "    <tr>\n",
       "      <th>4</th>\n",
       "      <td>heptagono</td>\n",
       "      <td>7</td>\n",
       "      <td>9</td>\n",
       "    </tr>\n",
       "  </tbody>\n",
       "</table>\n",
       "</div>"
      ],
      "text/plain": [
       "           nome  lados  comprimento do nome\n",
       "0     triangulo      3                    9\n",
       "1  quadrilatero      4                   12\n",
       "2     pentagono      5                    9\n",
       "3      hexagono      6                    8\n",
       "4     heptagono      7                    9"
      ]
     },
     "execution_count": 4,
     "metadata": {},
     "output_type": "execute_result"
    }
   ],
   "source": [
    "# forma 1\n",
    "polygons_dataframe['comprimento do nome'] = polygons_dataframe['nome'].str.len()\n",
    "\n",
    "# forma 2\n",
    "polygons_dataframe['comprimento do nome'] = polygons_dataframe['nome'].apply(len)\n",
    "\n",
    "# forma 3\n",
    "polygons_dataframe['comprimento do nome'] = polygons_dataframe['nome'].apply(lambda n : len(n))\n",
    "\n",
    "polygons_dataframe.head()"
   ]
  },
  {
   "cell_type": "markdown",
   "id": "43304567",
   "metadata": {},
   "source": [
    "Plotando os dados de um dataframe"
   ]
  },
  {
   "cell_type": "code",
   "execution_count": 5,
   "id": "a3a195bc",
   "metadata": {},
   "outputs": [
    {
     "data": {
      "text/plain": [
       "<AxesSubplot:title={'center':'lados vs comprimento do nome'}, xlabel='lados', ylabel='comprimento do nome'>"
      ]
     },
     "execution_count": 5,
     "metadata": {},
     "output_type": "execute_result"
    },
    {
     "data": {
      "image/png": "[encoded data removed]",
      "text/plain": [
       "<Figure size 432x288 with 1 Axes>"
      ]
     },
     "metadata": {
      "needs_background": "light"
     },
     "output_type": "display_data"
    }
   ],
   "source": [
    "polygons_dataframe.plot(\n",
    "    title='lados vs comprimento do nome',\n",
    "    kind='scatter',\n",
    "    x='lados',\n",
    "    y='comprimento do nome'\n",
    ")"
   ]
  }
 ],
 "metadata": {
  "kernelspec": {
   "display_name": "Python 3 (ipykernel)",
   "language": "python",
   "name": "python3"
  },
  "language_info": {
   "codemirror_mode": {
    "name": "ipython",
    "version": 3
   },
   "file_extension": ".py",
   "mimetype": "text/x-python",
   "name": "python",
   "nbconvert_exporter": "python",
   "pygments_lexer": "ipython3",
   "version": "3.8.10"
  }
 },
 "nbformat": 4,
 "nbformat_minor": 5
}
